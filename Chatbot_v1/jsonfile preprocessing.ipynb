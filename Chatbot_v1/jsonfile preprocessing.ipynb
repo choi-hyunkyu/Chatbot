{
 "cells": [
  {
   "cell_type": "code",
   "execution_count": 6,
   "metadata": {},
   "outputs": [],
   "source": [
    "import json\n",
    "import pandas as pd"
   ]
  },
  {
   "cell_type": "code",
   "execution_count": 7,
   "metadata": {},
   "outputs": [],
   "source": [
    "with open('./말뭉치/대화/감성대화말뭉치/감성대화말뭉치.json', 'r', encoding = 'utf-8') as json_file:\n",
    "    json_data = json.loads(json_file.read())"
   ]
  },
  {
   "cell_type": "code",
   "execution_count": 8,
   "metadata": {},
   "outputs": [],
   "source": [
    "sentence_list = [list(json_data[i]['talk']['content'].values()) for i in range(len(json_data))]"
   ]
  },
  {
   "cell_type": "code",
   "execution_count": 9,
   "metadata": {},
   "outputs": [],
   "source": [
    "a = 0\n",
    "b = 1\n",
    "person_1 = []\n",
    "person_2 = []\n",
    "for i in range(len(sentence_list)):\n",
    "    for ii in range(3):\n",
    "        person_1.append(sentence_list[i][a])\n",
    "        person_2.append(sentence_list[i][b])\n",
    "        a += 2\n",
    "        b += 2\n",
    "        if a == 6:\n",
    "            a = 0\n",
    "        if b == 7:\n",
    "            b = 1"
   ]
  },
  {
   "cell_type": "code",
   "execution_count": 10,
   "metadata": {},
   "outputs": [],
   "source": [
    "speech_data_df = pd.DataFrame({'Input': person_1, 'Output': person_2})"
   ]
  },
  {
   "cell_type": "code",
   "execution_count": 14,
   "metadata": {},
   "outputs": [],
   "source": [
    "speech_data_df.to_csv('./data/normal chatbot data/speech_data.txt', index = False, header = False, sep = '\\t')"
   ]
  }
 ],
 "metadata": {
  "kernelspec": {
   "display_name": "Python 3",
   "language": "python",
   "name": "python3"
  },
  "language_info": {
   "codemirror_mode": {
    "name": "ipython",
    "version": 3
   },
   "file_extension": ".py",
   "mimetype": "text/x-python",
   "name": "python",
   "nbconvert_exporter": "python",
   "pygments_lexer": "ipython3",
   "version": "3.8.5"
  }
 },
 "nbformat": 4,
 "nbformat_minor": 4
}
