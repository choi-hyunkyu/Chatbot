{
 "cells": [
  {
   "cell_type": "code",
   "execution_count": 1,
   "metadata": {},
   "outputs": [],
   "source": [
    "from PyKomoran import *"
   ]
  },
  {
   "cell_type": "code",
   "execution_count": 2,
   "metadata": {},
   "outputs": [],
   "source": [
    "input_sentence = \"1955버거 세트 하나에 음료수는 콜라로 주세요.\"\n",
    "#input_sentence = \"안녕하세요, 빅맥, 상하이버거 미디움세트에 음료수는 각각 콜라, 아이스커피로 주세요.\""
   ]
  },
  {
   "cell_type": "code",
   "execution_count": 3,
   "metadata": {},
   "outputs": [],
   "source": [
    "order_dict = {index: value for index, value in enumerate([i for i in input_sentence])}"
   ]
  },
  {
   "cell_type": "code",
   "execution_count": 4,
   "metadata": {},
   "outputs": [],
   "source": [
    "intent_dict = {\n",
    "    'burger' : ['빅맥', '상하이'],\n",
    "    \n",
    "    'beverage' :  ['콜라', '아이스커피'],\n",
    "    \n",
    "    'size': ['미디움', '라지'],\n",
    "    \n",
    "    'type' : ['세트', '단품']\n",
    "}"
   ]
  },
  {
   "cell_type": "code",
   "execution_count": 5,
   "metadata": {},
   "outputs": [],
   "source": [
    "def num2str(order_dict):\n",
    "    for index, value in enumerate(order_dict):\n",
    "        if order_dict[index] == '0':\n",
    "            order_dict[index] = '영'\n",
    "        elif order_dict[index] == '1':\n",
    "            order_dict[index] = '일'\n",
    "        elif order_dict[index] == '2':\n",
    "            order_dict[index] = '이'\n",
    "        elif order_dict[index] == '3':\n",
    "            order_dict[index] = '삼'\n",
    "        elif order_dict[index] == '4':\n",
    "            order_dict[index] = '사'\n",
    "        elif order_dict[index] == '5':\n",
    "            order_dict[index] = '오'\n",
    "        elif order_dict[index] == '6':\n",
    "            order_dict[index] = '육'\n",
    "        elif order_dict[index] == '7':\n",
    "            order_dict[index] = '칠'\n",
    "        elif order_dict[index] == '8':\n",
    "            order_dict[index] = '팔'\n",
    "        elif order_dict[index] == '9':\n",
    "            order_dict[index] = '구'\n",
    "    \n",
    "    return order_dict"
   ]
  },
  {
   "cell_type": "code",
   "execution_count": 6,
   "metadata": {},
   "outputs": [
    {
     "name": "stdout",
     "output_type": "stream",
     "text": [
      "{0: '상', 1: '하', 2: '이', 3: '버', 4: '거', 5: ' ', 6: '세', 7: '트', 8: ' ', 9: '하', 10: '나', 11: '에', 12: ' ', 13: '음', 14: '료', 15: '수', 16: '는', 17: ' ', 18: '콜', 19: '라', 20: '로', 21: ' ', 22: '주', 23: '세', 24: '요', 25: '.'}\n"
     ]
    }
   ],
   "source": [
    "print(order_dict)"
   ]
  },
  {
   "cell_type": "code",
   "execution_count": 7,
   "metadata": {},
   "outputs": [],
   "source": [
    "tkn_order = \"\".join(list(order_dict.values()))"
   ]
  },
  {
   "cell_type": "code",
   "execution_count": 8,
   "metadata": {},
   "outputs": [],
   "source": [
    "komoran = Komoran(model_path = DEFAULT_MODEL['FULL'])"
   ]
  },
  {
   "cell_type": "code",
   "execution_count": 9,
   "metadata": {},
   "outputs": [],
   "source": [
    "komoran.set_user_dic('./data/dic/user.dic')"
   ]
  },
  {
   "cell_type": "code",
   "execution_count": 10,
   "metadata": {},
   "outputs": [
    {
     "data": {
      "text/plain": [
       "[상하이/NNP,\n",
       " 버거/NNP,\n",
       " 세트/NNP,\n",
       " 하나에/NNP,\n",
       " 음료수/NNP,\n",
       " 는/JX,\n",
       " 콜라/NNP,\n",
       " 로/JKB,\n",
       " 주/VX,\n",
       " 시/EP,\n",
       " 어요/EF,\n",
       " ./SF]"
      ]
     },
     "execution_count": 10,
     "metadata": {},
     "output_type": "execute_result"
    }
   ],
   "source": [
    "komoran.get_list(tkn_order)"
   ]
  },
  {
   "cell_type": "code",
   "execution_count": 11,
   "metadata": {},
   "outputs": [
    {
     "data": {
      "text/plain": [
       "['상하이', '버거', '세트', '하나에', '음료수', '콜라']"
      ]
     },
     "execution_count": 11,
     "metadata": {},
     "output_type": "execute_result"
    }
   ],
   "source": [
    "komoran.nouns(tkn_order)"
   ]
  },
  {
   "cell_type": "code",
   "execution_count": 23,
   "metadata": {},
   "outputs": [
    {
     "ename": "ValueError",
     "evalue": "Must have exactly one of create/read/write/append mode and at most one plus",
     "output_type": "error",
     "traceback": [
      "\u001b[1;31m---------------------------------------------------------------------------\u001b[0m",
      "\u001b[1;31mValueError\u001b[0m                                Traceback (most recent call last)",
      "\u001b[1;32m<ipython-input-23-26ee26b8b3c8>\u001b[0m in \u001b[0;36m<module>\u001b[1;34m\u001b[0m\n\u001b[0;32m      1\u001b[0m \u001b[1;32mimport\u001b[0m \u001b[0mpickle\u001b[0m\u001b[1;33m\u001b[0m\u001b[1;33m\u001b[0m\u001b[0m\n\u001b[1;32m----> 2\u001b[1;33m \u001b[0mfile\u001b[0m \u001b[1;33m=\u001b[0m \u001b[0mopen\u001b[0m\u001b[1;33m(\u001b[0m\u001b[1;34m'./data/dic/user.dic'\u001b[0m\u001b[1;33m,\u001b[0m\u001b[1;34m\"t\"\u001b[0m\u001b[1;33m,\u001b[0m \u001b[0mencoding\u001b[0m \u001b[1;33m=\u001b[0m \u001b[1;34m'utf-8'\u001b[0m\u001b[1;33m)\u001b[0m\u001b[1;33m\u001b[0m\u001b[1;33m\u001b[0m\u001b[0m\n\u001b[0m\u001b[0;32m      3\u001b[0m \u001b[0mcontent\u001b[0m \u001b[1;33m=\u001b[0m \u001b[0mpickle\u001b[0m\u001b[1;33m.\u001b[0m\u001b[0mload\u001b[0m\u001b[1;33m(\u001b[0m\u001b[0mfile\u001b[0m\u001b[1;33m)\u001b[0m\u001b[1;33m\u001b[0m\u001b[1;33m\u001b[0m\u001b[0m\n\u001b[0;32m      4\u001b[0m \u001b[0mcontent\u001b[0m\u001b[1;33m\u001b[0m\u001b[1;33m\u001b[0m\u001b[0m\n",
      "\u001b[1;31mValueError\u001b[0m: Must have exactly one of create/read/write/append mode and at most one plus"
     ]
    }
   ],
   "source": [
    "import pickle\n",
    "file = open('./data/dic/user.dic',\"t\", encoding = 'utf-8') as file\n",
    "content = pickle.load(file)\n",
    "content"
   ]
  },
  {
   "cell_type": "code",
   "execution_count": null,
   "metadata": {},
   "outputs": [],
   "source": []
  }
 ],
 "metadata": {
  "kernelspec": {
   "display_name": "Python 3",
   "language": "python",
   "name": "python3"
  },
  "language_info": {
   "codemirror_mode": {
    "name": "ipython",
    "version": 3
   },
   "file_extension": ".py",
   "mimetype": "text/x-python",
   "name": "python",
   "nbconvert_exporter": "python",
   "pygments_lexer": "ipython3",
   "version": "3.8.5"
  }
 },
 "nbformat": 4,
 "nbformat_minor": 4
}
