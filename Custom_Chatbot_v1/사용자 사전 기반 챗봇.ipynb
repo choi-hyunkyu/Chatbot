{
 "cells": [
  {
   "cell_type": "code",
   "execution_count": 1,
   "metadata": {},
   "outputs": [],
   "source": [
    "'''\n",
    "module import\n",
    "'''\n",
    "# !pip install PyKomoran\n",
    "from PyKomoran import *\n",
    "from collections import OrderedDict, Counter\n",
    "import pandas as pd\n",
    "import json"
   ]
  },
  {
   "cell_type": "code",
   "execution_count": 2,
   "metadata": {},
   "outputs": [],
   "source": [
    "'''\n",
    "komoran model setting\n",
    "'''\n",
    "komoran = Komoran(model_path = DEFAULT_MODEL['FULL'])\n",
    "komoran.set_user_dic('./data/dic/user.dic')"
   ]
  },
  {
   "cell_type": "code",
   "execution_count": 3,
   "metadata": {},
   "outputs": [],
   "source": [
    "'''\n",
    "menu list loading\n",
    "'''\n",
    "PATH = './data/dic/menu_list/'\n",
    "burger = pd.read_csv(PATH + 'burger.txt')['burger'].tolist()\n",
    "beverage = pd.read_csv(PATH + 'beverage.txt')['beverage'].tolist()\n",
    "size = pd.read_csv(PATH + 'size.txt')['size'].tolist()\n",
    "menu_type = pd.read_csv(PATH + 'menu_type.txt')['menu_type'].tolist()\n",
    "dessert = pd.read_csv(PATH + 'dessert.txt')['dessert'].tolist()\n",
    "icecreem = pd.read_csv(PATH + 'icecreem.txt')['icecreem'].tolist()\n",
    "morning = pd.read_csv(PATH + 'morning.txt')['morning'].tolist()\n",
    "\n",
    "'''\n",
    "save as json file, intent list for customer in store\n",
    "'''\n",
    "menu_list = OrderedDict()\n",
    "menu_list['burger'] = burger\n",
    "menu_list['beverage'] = beverage\n",
    "menu_list['size'] = size\n",
    "menu_list['menu_type'] = menu_type\n",
    "menu_list['dessert'] = dessert\n",
    "menu_list['icecreem'] = icecreem\n",
    "menu_list['morning'] = morning\n",
    "\n",
    "with open(PATH + 'menu_list.json', 'w', encoding = 'utf-8') as file:\n",
    "    json.dump(menu_list, file, ensure_ascii = False, indent = '\\t')"
   ]
  },
  {
   "cell_type": "code",
   "execution_count": 4,
   "metadata": {},
   "outputs": [],
   "source": [
    "'''\n",
    "data loading\n",
    "'''\n",
    "with open('./data/dic/menu_list/menu_list.json', 'r', encoding = 'utf-8') as file:\n",
    "    intent_dict = json.load(file)"
   ]
  },
  {
   "cell_type": "code",
   "execution_count": 5,
   "metadata": {},
   "outputs": [
    {
     "name": "stdout",
     "output_type": "stream",
     "text": [
      "dict_keys(['burger', 'beverage', 'size', 'menu_type', 'dessert', 'icecreem', 'morning'])\n"
     ]
    }
   ],
   "source": [
    "print(intent_dict.keys())"
   ]
  },
  {
   "cell_type": "code",
   "execution_count": 6,
   "metadata": {},
   "outputs": [
    {
     "name": "stdout",
     "output_type": "stream",
     "text": [
      "dict_values([['맥스파이시 상하이', '맥스파이시상하이', '상하이 스파이시', '상하이스파이시', '상하이', '빅맥', '맥치킨', '맥치킨 모짜렐라', '맥치킨모짜렐라', '더블 불고기', '더블불고기', '에그 불고기', '에그불고기', '불고기', '슈슈', '슈비', '베이컨 토마토 디럭스', '베이컨토마토 디럭스', '베이컨 토마토디럭스', '베이컨토마토디럭스', '베토디', '더블 쿼터파운더 치즈', '더블쿼터파운더 치즈', '더블쿼터파운더치즈', '쿼터파운더 치즈', '쿼터파운더치즈', '치즈', '더블 치즈', '더블치즈', '햄', '일구오오', '1955', '더블 1955', '더블1955', '1955 해쉬브라운', '1955해쉬브라운'], ['코카-콜라', '코카콜라', '콜라', '사이다', '스프라이트', '환타', '코카-콜라 제로', '코카-콜라제로', '코카 콜라 제로', '코카콜라제로', '제로 코카-콜라', '제로 코카 콜라', '제로코카 콜라', '제로 코카콜라', '제로코카콜라', '제로콜라', '제로코크', '제로콕', '아이스 커피', '아이스커피', '뜨거운커피', '핫커피', '생수', '물', '우유', '밀크', '오렌지 주스', '오렌지주스', '오렌지 쥬스', '오렌지쥬스', '주스', '쥬스', '딸기 칠러', '딸기칠러', '배 칠러', '배칠러', '바닐라 쉐이크', '바닐라쉐이크', '바닐라셰이크', '딸기 쉐이크', '딸기쉐이크', '딸기셰이크', '초코 쉐이크', '초코쉐이크', '초코셰이크', '카페라떼', '까페라떼', '디카페인 카페라떼', '디카페인카페라떼', '디까페인 까페라떼', '디까페인까페라떼', '아이스 카페라떼', '아이스카페라떼', '아이스 까페라떼', '아이스까페라떼', '디카페인 아이스 카페라떼', '디카페인아이스 카페라떼', '디카페인아이스카페라떼', '디까페인 아이스 까페라떼', '디까페인아이스 까페라떼', '디까페인아이스까페라떼', '아메리카노', '디카페인 아메리카노', '디카페인아메리카노', '디까페인 아메리카노', '디까페인아메리카노', '아이스 아메리카노', '아이스아메리카노', '아아', '디카페인 아이스 아메리카노', '디카페인아이스 아메리카노', '디카페인아이스아메리카노', '디까페인 아이스 아메리카노', '디까페인아이스 아메리카노', '디까페인아이스아메리카노', '카푸치노', '디카페인 카푸치노', '디카페인카푸치노', '디까페인 카푸치노', '디까페인카푸치노', '에스프레소', '디카페인 에스프레소', '디카페인에스프레소', '디까페인 에스프레소', '디까페인에스프레소', '프리미엄 로스트 원두커피', '프리미엄로스트 원두커피', '프리미언로스트 원두커피'], ['미디움', '라지'], ['세트', '단품'], ['맥너겟 4조각', '맥너겟 4개', '맥너겟4조각', '맥너겟4개', '맥너겟 네 개', '맥너겟 네개', '맥너겟네개', '맥너겟 네 조각', '맥너겟 네조각', '맥너겟네조각', '맥너겟 6조각', '맥너겟 6개', '맥너겟6조각', '맥너겟6개', '맥너겟 여섯 개', '맥너겟 여섯개', '맥너겟여섯개', '맥너겟 여섯 조각', '맥너겟 여섯조각', '맥너겟여섯조각', '맥너겟 10조각', '맥너겟 10개', '맥너겟10조각', '맥너겟10개', '맥너겟 열 개', '맥너겟 열개', '맥너겟열개', '맥너겟 열 조각', '맥너겟 열조각', '맥너겟열조각'], ['바나나 오레오 맥플러리', '바나나오레오 맥플러리', '바나나오레오맥플러리', '바나나 오레오', '바나나오레오', '바나나 맥플러리', '바나나맥플러리', '딸기 오레오 맥플러리', '딸기오레오 맥플러리', '딸기오레오맥플러리', '딸기 오레오', '딸기오레오', '딸기 맥플러리', '딸기맥플러리', '초코 오레오 맥플러리', '초코오레오 맥플러리', '초코오레오맥플러리', '초코 오레오', '초코오레오', '초코 맥플러리', '초코맥플러리', '오레오 맥플러리', '오레오맥플러리', '아이스크림콘', '아이스크림 콘', '콘', '초코콘', '초코 콘', '초코 선데이 아이스크림', '초코선데이 아이스크림', '초코선데이아이스크림', '초코 선데이', '초코선데이', '카라멜 선데이 아이스크림', '카라멜선데이 아이스크림', '카라멜선데이아이스크림', '카라멜 선데이', '카라멜선데이', '딸기 선데이 아이스크림', '딸기선데이 아이스크림', '딸기선데이아이스크림', '딸기 선데이', '딸기선데이', '선데이', '오레오 아포가토', '아포가토'], ['치킨 치즈 머핀', '치킨치즈머핀', '에그 맥머핀 ', '에그맥머핀', '베이컨 에그 맥머핀', '베이컨에그 맥머핀', '베이컨에그맥머핀', '소시지 에그 맥머핀', '소시지에그 맥머핀', '소시지에그맥머핀', '소세지 에그 맥머핀', '소세지에그 맥머핀', '소세지에그맥머핀', '베이컨 토마토 머핀', '베이컨토마토 머핀', '베이컨토마토머핀', '소시지 맥머핀', '소시지맥머핀', '소세지 맥머핀', '소세지맥머핀', '디럭스 브렉퍼스트', '디럭스브렉퍼스트', '디럭스 브랙퍼스트', '디럭스브랙퍼스트', '핫케익 3조각', '핫케익3조각', '핫케익 세 조각', '핫케익 세조각', '핫케익세조각', '핫케익 3개', '핫케익3개', '핫케익 세 개', '핫케익 세개', '핫케익세개', '핫케잌 3조각', '핫케잌3조각', '핫케잌 세 조각', '핫케잌 세조각', '핫케잌세조각', '핫케잌 3개', '핫케잌3개', '핫케잌 세 개', '핫케잌 세개', '핫케잌세개', '핫케익 2조각', '핫케익2조각', '핫케익 두 조각', '핫케익 두조각', '핫케익두조각', '핫케익 2개', '핫케익2개', '핫케익 두 개', '핫케익 두개', '핫케익두개', '핫케잌 2조각', '핫케잌2조각', '핫케잌 두 조각', '핫케잌 두조각', '핫케잌두조각', '핫케잌 2개', '핫케잌2개', '핫케잌 두 개', '핫케잌 두개', '핫케잌두개', '핫케익', '핫케잌', '해쉬 브라운', '해쉬브라운', '해쉬']])\n"
     ]
    }
   ],
   "source": [
    "print(intent_dict.values())"
   ]
  },
  {
   "cell_type": "code",
   "execution_count": 7,
   "metadata": {},
   "outputs": [],
   "source": [
    "'''\n",
    "functions\n",
    "'''\n",
    "# preprocessing number to string\n",
    "def num2str(order_dict):\n",
    "    for index, value in enumerate(order_dict):\n",
    "        if order_dict[index] == '0':\n",
    "            order_dict[index] = '영'\n",
    "        elif order_dict[index] == '1':\n",
    "            order_dict[index] = '일'\n",
    "        elif order_dict[index] == '2':\n",
    "            order_dict[index] = '이'\n",
    "        elif order_dict[index] == '3':\n",
    "            order_dict[index] = '삼'\n",
    "        elif order_dict[index] == '4':\n",
    "            order_dict[index] = '사'\n",
    "        elif order_dict[index] == '5':\n",
    "            order_dict[index] = '오'\n",
    "        elif order_dict[index] == '6':\n",
    "            order_dict[index] = '육'\n",
    "        elif order_dict[index] == '7':\n",
    "            order_dict[index] = '칠'\n",
    "        elif order_dict[index] == '8':\n",
    "            order_dict[index] = '팔'\n",
    "        elif order_dict[index] == '9':\n",
    "            order_dict[index] = '구'\n",
    "    \n",
    "    return order_dict\n",
    "\n",
    "# extract intent from customer\n",
    "def extract_intent(input_sentence):\n",
    "    '''\n",
    "    str2dict with customer\n",
    "    '''\n",
    "    order_dict = {index: value for index, value in enumerate([i for i in input_sentence])}\n",
    "    tkn_order = \"\".join(list(num2str(order_dict).values()))\n",
    "    customer_order = {'CUSTOMER_ORDER': komoran.nouns(tkn_order)}\n",
    "\n",
    "    for index, samples in enumerate(customer_order.items()):\n",
    "        key, value = samples\n",
    "        for index, word in enumerate(value):\n",
    "            if '안녕' in word:\n",
    "                del value[index]\n",
    "\n",
    "    customer_intent_count = Counter(value)\n",
    "\n",
    "    return customer_order, customer_intent_count\n",
    "\n",
    "# matching\n",
    "def matching_menu(order, intent_dict):\n",
    "    customer_dict = {}\n",
    "    for index, items in enumerate(intent_dict.items()): # v: list\n",
    "        category, menues = items\n",
    "        menu = [value for value in menues if value in order]\n",
    "        customer_dict.update({category: menu})\n",
    "\n",
    "    return customer_dict\n",
    "\n",
    "# response\n",
    "def response(customer_dict):\n",
    "    # 기본 햄버거 주문\n",
    "    if len(customer_dict['burger']) != 0 and len(customer_dict['morning']) == 0:\n",
    "        print(\"요청하신 {}, {}, {}-{} {} {} 주문이 완료되었습니다.\".format(\n",
    "            customer_dict['burger'],\n",
    "            customer_dict['beverage'],\n",
    "            customer_dict['size'],\n",
    "            customer_dict['menu_type'],\n",
    "            customer_dict['dessert'],\n",
    "            customer_dict['icecreem']\n",
    "            ))\n",
    "\n",
    "    # 기본 모닝 주문\n",
    "    elif len(customer_dict['burger']) == 0 and len(customer_dict['morning']) != 0:\n",
    "        print(\"요청하신 {}, {}, {}-{} {} {} 주문이 완료되었습니다.\".format(\n",
    "            customer_dict['morning'],\n",
    "            customer_dict['beverage'],\n",
    "            customer_dict['size'],\n",
    "            customer_dict['menu_type'],\n",
    "            customer_dict['dessert'],\n",
    "            customer_dict['icecreem']\n",
    "            ))\n",
    "\n",
    "    # 햄버거, 모닝 외 주문\n",
    "    elif len(customer_dict['burger']) == 0 and len(customer_dict['morning']) == 0:\n",
    "        print(\"요청하신 {} {} {} 주문이 완료되었습니다.\".format(\n",
    "            customer_dict['beverage'],\n",
    "            customer_dict['dessert'],\n",
    "            customer_dict['icecreem']\n",
    "            ))\n",
    "    # 햄버거, 모닝 동시 주문 시\n",
    "    elif len(customer_dict['burger']) != 0 and len(customer_dict['morning']) != 0:\n",
    "        print(\"손님, 요청하신 {} 제품과 {} 제품은 동시에 주문이 어렵습니다. 다른 제품을 주문해주세요.\".format(\n",
    "        customer_dict['burger'],\n",
    "        customer_dict['morning']\n",
    "        ))\n",
    "\n",
    "# order menu\n",
    "def chatting(input_sentence, intent_dict):\n",
    "    customer_intents, counts = extract_intent(input_sentence)\n",
    "    # dict2list with store\n",
    "    store_list = [intent for categories, menues in intent_dict.items() for intent in menues]\n",
    "    # CUSTOMER's order list\n",
    "    order = [value for value in store_list if value in customer_intents['CUSTOMER_ORDER']]\n",
    "    # Matching between CUSTOMER's order and menues in the store\n",
    "    customer_dict = matching_menu(order, intent_dict)\n",
    "    # Answer\n",
    "    #print(\"요청하신 {}, {}, {}{} 주문이 완료되었습니다.\".format(customer_dict['burger'], customer_dict['beverage'], customer_dict['size'], customer_dict['menu_type']))\n",
    "    response(customer_dict)\n",
    "\n",
    "    return customer_dict\n",
    "\n",
    "# chat with bot\n",
    "def chat(intent_dict):\n",
    "    input_sentence = \"\"\n",
    "    while(1):\n",
    "        try:\n",
    "            '''\n",
    "            주문 접수 여부\n",
    "            '''\n",
    "            input_sentence = input('주문하시겠습니까? > ')\n",
    "            if input_sentence == '아니오' or input_sentence == '아니요':\n",
    "                print(\"감사합니다. 안녕히 가십시오.\")\n",
    "                break\n",
    "\n",
    "            '''\n",
    "            주문 접수\n",
    "            '''\n",
    "            customer_dict = chatting(input_sentence, intent_dict)\n",
    "\n",
    "            '''\n",
    "            주문 종료\n",
    "            '''\n",
    "            check_sentence = input('주문을 이어서 하시겠습니까? > ')\n",
    "            if check_sentence == '아니오' or check_sentence == '아니요':\n",
    "                print(\"주문이 완료되었습니다.\")\n",
    "                break\n",
    "            elif check_sentence == '예' or check_sentence == '네': continue\n",
    "\n",
    "        except:\n",
    "            print(\"Error\")\n",
    "\n",
    "    #return customer_dict"
   ]
  },
  {
   "cell_type": "code",
   "execution_count": 8,
   "metadata": {},
   "outputs": [],
   "source": [
    "'''\n",
    "Result 1\n",
    "'''\n",
    "input_sentence_1 = \"안녕하세요, 상하이버거 미디움세트, 빅맥버거 라지세트에 음료수는 아이스커피, 콜라로 주세요.\"\n",
    "input_sentence_2 = \"상하이버거 라지세트하나에 빅맥단품으로 주세요. 아 그리고 상하이 버거에는 콜라로 주세요\"\n",
    "input_sentence_3 = \"빅맥 단품 하나 주세요.\"\n",
    "input_sentence_4 = \"더블1955버거 단품 하나 주세요.\"\n",
    "input_sentence_5 = \"슈슈버거 세트에 음료수는 환타로 주세요.\"\n",
    "input_sentence_6 = \"소세지 에그 맥머핀 세트하나에 음료수는 배 칠러로 주세요. 아 그리고 아이스크림콘도 같이 주세요.\"\n",
    "input_sentence_7 = \"핫케익3개 주시면 감사하겠습니다.\" # 수량 출력 수정해야됨\n",
    "\n",
    "input_sentence_list = [\n",
    "    \"안녕하세요, 상하이버거 미디움세트, 빅맥버거 라지세트에 음료수는 아이스커피, 콜라로 주세요.\",\n",
    "    \"상하이버거 라지세트하나에 빅맥단품으로 주세요. 아 그리고 상하이 버거에는 콜라로 주세요\",\n",
    "    \"빅맥 단품 하나 주세요.\",\n",
    "    \"더블1955버거 단품 하나 주세요.\", # 숫자 출력 수정해야됨\n",
    "    \"슈슈버거 세트에 음료수는 환타로 주세요.\",\n",
    "    \"소세지 에그 맥머핀 세트하나에 음료수는 배 칠러로 주세요. 아 그리고 아이스크림콘도 같이 주세요.\",\n",
    "    \"핫케익3개 주시면 감사하겠습니다.\", # 숫자 출력 수정해야됨\n",
    "    \"베이컨 토마토 머핀 단품 하나에 빅맥 세트로 주세요. 음료수는 우유로 부탁드립니다.\"\n",
    "]"
   ]
  },
  {
   "cell_type": "code",
   "execution_count": 9,
   "metadata": {},
   "outputs": [
    {
     "name": "stdout",
     "output_type": "stream",
     "text": [
      "요청하신 ['상하이', '빅맥'], ['콜라', '아이스커피'], ['미디움', '라지']-['세트'] [] [] 주문이 완료되었습니다.\n",
      "{'burger': ['상하이', '빅맥'], 'beverage': ['콜라', '아이스커피'], 'size': ['미디움', '라지'], 'menu_type': ['세트'], 'dessert': [], 'icecreem': [], 'morning': []}\n",
      "\n",
      "요청하신 ['상하이', '빅맥'], ['콜라'], ['라지']-['세트', '단품'] [] [] 주문이 완료되었습니다.\n",
      "{'burger': ['상하이', '빅맥'], 'beverage': ['콜라'], 'size': ['라지'], 'menu_type': ['세트', '단품'], 'dessert': [], 'icecreem': [], 'morning': []}\n",
      "\n",
      "요청하신 ['빅맥'], [], []-['단품'] [] [] 주문이 완료되었습니다.\n",
      "{'burger': ['빅맥'], 'beverage': [], 'size': [], 'menu_type': ['단품'], 'dessert': [], 'icecreem': [], 'morning': []}\n",
      "\n",
      "요청하신 ['일구오오'], [], []-['단품'] [] [] 주문이 완료되었습니다.\n",
      "{'burger': ['일구오오'], 'beverage': [], 'size': [], 'menu_type': ['단품'], 'dessert': [], 'icecreem': [], 'morning': []}\n",
      "\n",
      "요청하신 ['슈슈'], ['환타'], []-['세트'] [] [] 주문이 완료되었습니다.\n",
      "{'burger': ['슈슈'], 'beverage': ['환타'], 'size': [], 'menu_type': ['세트'], 'dessert': [], 'icecreem': [], 'morning': []}\n",
      "\n",
      "요청하신 ['소세지 에그 맥머핀'], ['배 칠러'], []-['세트'] [] ['아이스크림콘'] 주문이 완료되었습니다.\n",
      "{'burger': [], 'beverage': ['배 칠러'], 'size': [], 'menu_type': ['세트'], 'dessert': [], 'icecreem': ['아이스크림콘'], 'morning': ['소세지 에그 맥머핀']}\n",
      "\n",
      "요청하신 ['핫케익'], [], []-[] [] [] 주문이 완료되었습니다.\n",
      "{'burger': [], 'beverage': [], 'size': [], 'menu_type': [], 'dessert': [], 'icecreem': [], 'morning': ['핫케익']}\n",
      "\n",
      "손님, 요청하신 ['빅맥'] 제품과 ['베이컨 토마토 머핀'] 제품은 동시에 주문이 어렵습니다. 다른 제품을 주문해주세요.\n",
      "{'burger': ['빅맥'], 'beverage': ['우유'], 'size': [], 'menu_type': ['세트', '단품'], 'dessert': [], 'icecreem': [], 'morning': ['베이컨 토마토 머핀']}\n",
      "\n"
     ]
    }
   ],
   "source": [
    "for i in range(len(input_sentence_list)):\n",
    "    print(chatting(input_sentence_list[i], intent_dict), sep = '\\n')\n",
    "    print()"
   ]
  },
  {
   "cell_type": "code",
   "execution_count": 10,
   "metadata": {},
   "outputs": [
    {
     "name": "stdout",
     "output_type": "stream",
     "text": [
      "주문하시겠습니까? > 안녕하세요, 음...빅맥세트하나에 음료수는 배 칠러로 주세요.\n",
      "요청하신 ['빅맥'], ['배 칠러'], []-['세트'] [] [] 주문이 완료되었습니다.\n",
      "주문을 이어서 하시겠습니까? > 네\n",
      "주문하시겠습니까? > 1955버거 단품도 추가해주세요\n",
      "요청하신 ['일구오오'], [], []-['단품'] [] [] 주문이 완료되었습니다.\n",
      "주문을 이어서 하시겠습니까? > 네\n",
      "주문하시겠습니까? > 오레오 맥플러리도 하나 부탁드립니다.\n",
      "요청하신 [] [] ['오레오 맥플러리'] 주문이 완료되었습니다.\n",
      "주문을 이어서 하시겠습니까? > 아니요\n",
      "주문이 완료되었습니다.\n"
     ]
    }
   ],
   "source": [
    "chat(intent_dict)"
   ]
  },
  {
   "cell_type": "code",
   "execution_count": null,
   "metadata": {},
   "outputs": [],
   "source": [
    "chat(intent_dict)"
   ]
  },
  {
   "cell_type": "code",
   "execution_count": null,
   "metadata": {},
   "outputs": [],
   "source": []
  }
 ],
 "metadata": {
  "kernelspec": {
   "display_name": "Python 3",
   "language": "python",
   "name": "python3"
  },
  "language_info": {
   "codemirror_mode": {
    "name": "ipython",
    "version": 3
   },
   "file_extension": ".py",
   "mimetype": "text/x-python",
   "name": "python",
   "nbconvert_exporter": "python",
   "pygments_lexer": "ipython3",
   "version": "3.8.5"
  }
 },
 "nbformat": 4,
 "nbformat_minor": 4
}
